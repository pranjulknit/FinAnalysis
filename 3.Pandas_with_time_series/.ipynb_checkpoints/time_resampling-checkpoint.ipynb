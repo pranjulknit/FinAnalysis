{
 "cells": [
  {
   "cell_type": "code",
   "execution_count": 1,
   "metadata": {},
   "outputs": [],
   "source": [
    "import matplotlib.pyplot as plt\n",
    "import pandas as pd\n",
    "import numpy as np\n",
    "%matplotlib inline"
   ]
  },
  {
   "cell_type": "code",
   "execution_count": 8,
   "metadata": {},
   "outputs": [],
   "source": [
    "df = pd.read_csv('walmart_stock.csv')"
   ]
  },
  {
   "cell_type": "code",
   "execution_count": 9,
   "metadata": {},
   "outputs": [
    {
     "name": "stdout",
     "output_type": "stream",
     "text": [
      "<class 'pandas.core.frame.DataFrame'>\n",
      "RangeIndex: 1258 entries, 0 to 1257\n",
      "Data columns (total 7 columns):\n",
      " #   Column     Non-Null Count  Dtype  \n",
      "---  ------     --------------  -----  \n",
      " 0   Date       1258 non-null   object \n",
      " 1   Open       1258 non-null   float64\n",
      " 2   High       1258 non-null   float64\n",
      " 3   Low        1258 non-null   float64\n",
      " 4   Close      1258 non-null   float64\n",
      " 5   Volume     1258 non-null   int64  \n",
      " 6   Adj Close  1258 non-null   float64\n",
      "dtypes: float64(5), int64(1), object(1)\n",
      "memory usage: 68.9+ KB\n"
     ]
    }
   ],
   "source": [
    "df.info()"
   ]
  },
  {
   "cell_type": "code",
   "execution_count": 10,
   "metadata": {},
   "outputs": [],
   "source": [
    "df['Date'] = pd.to_datetime(df['Date'])"
   ]
  },
  {
   "cell_type": "code",
   "execution_count": 12,
   "metadata": {},
   "outputs": [
    {
     "name": "stdout",
     "output_type": "stream",
     "text": [
      "<class 'pandas.core.frame.DataFrame'>\n",
      "RangeIndex: 1258 entries, 0 to 1257\n",
      "Data columns (total 7 columns):\n",
      " #   Column     Non-Null Count  Dtype         \n",
      "---  ------     --------------  -----         \n",
      " 0   Date       1258 non-null   datetime64[ns]\n",
      " 1   Open       1258 non-null   float64       \n",
      " 2   High       1258 non-null   float64       \n",
      " 3   Low        1258 non-null   float64       \n",
      " 4   Close      1258 non-null   float64       \n",
      " 5   Volume     1258 non-null   int64         \n",
      " 6   Adj Close  1258 non-null   float64       \n",
      "dtypes: datetime64[ns](1), float64(5), int64(1)\n",
      "memory usage: 68.9 KB\n"
     ]
    }
   ],
   "source": [
    "df.info()"
   ]
  },
  {
   "cell_type": "code",
   "execution_count": 13,
   "metadata": {},
   "outputs": [],
   "source": [
    "df.set_index('Date',inplace=True)"
   ]
  },
  {
   "cell_type": "code",
   "execution_count": 14,
   "metadata": {},
   "outputs": [
    {
     "data": {
      "text/plain": [
       "DatetimeIndex(['2012-01-03', '2012-01-04', '2012-01-05', '2012-01-06',\n",
       "               '2012-01-09', '2012-01-10', '2012-01-11', '2012-01-12',\n",
       "               '2012-01-13', '2012-01-17',\n",
       "               ...\n",
       "               '2016-12-16', '2016-12-19', '2016-12-20', '2016-12-21',\n",
       "               '2016-12-22', '2016-12-23', '2016-12-27', '2016-12-28',\n",
       "               '2016-12-29', '2016-12-30'],\n",
       "              dtype='datetime64[ns]', name='Date', length=1258, freq=None)"
      ]
     },
     "execution_count": 14,
     "metadata": {},
     "output_type": "execute_result"
    }
   ],
   "source": [
    "df.index"
   ]
  },
  {
   "cell_type": "code",
   "execution_count": 15,
   "metadata": {},
   "outputs": [
    {
     "data": {
      "text/html": [
       "<div>\n",
       "<style scoped>\n",
       "    .dataframe tbody tr th:only-of-type {\n",
       "        vertical-align: middle;\n",
       "    }\n",
       "\n",
       "    .dataframe tbody tr th {\n",
       "        vertical-align: top;\n",
       "    }\n",
       "\n",
       "    .dataframe thead th {\n",
       "        text-align: right;\n",
       "    }\n",
       "</style>\n",
       "<table border=\"1\" class=\"dataframe\">\n",
       "  <thead>\n",
       "    <tr style=\"text-align: right;\">\n",
       "      <th></th>\n",
       "      <th>Open</th>\n",
       "      <th>High</th>\n",
       "      <th>Low</th>\n",
       "      <th>Close</th>\n",
       "      <th>Volume</th>\n",
       "      <th>Adj Close</th>\n",
       "    </tr>\n",
       "    <tr>\n",
       "      <th>Date</th>\n",
       "      <th></th>\n",
       "      <th></th>\n",
       "      <th></th>\n",
       "      <th></th>\n",
       "      <th></th>\n",
       "      <th></th>\n",
       "    </tr>\n",
       "  </thead>\n",
       "  <tbody>\n",
       "    <tr>\n",
       "      <th>2012-12-31</th>\n",
       "      <td>77.599998</td>\n",
       "      <td>77.599998</td>\n",
       "      <td>76.690002</td>\n",
       "      <td>77.150002</td>\n",
       "      <td>38007300</td>\n",
       "      <td>68.568371</td>\n",
       "    </tr>\n",
       "    <tr>\n",
       "      <th>2013-12-31</th>\n",
       "      <td>81.209999</td>\n",
       "      <td>81.370003</td>\n",
       "      <td>80.820000</td>\n",
       "      <td>81.209999</td>\n",
       "      <td>25683700</td>\n",
       "      <td>73.929868</td>\n",
       "    </tr>\n",
       "    <tr>\n",
       "      <th>2014-12-31</th>\n",
       "      <td>87.080002</td>\n",
       "      <td>88.089996</td>\n",
       "      <td>86.480003</td>\n",
       "      <td>87.540001</td>\n",
       "      <td>22812400</td>\n",
       "      <td>81.707680</td>\n",
       "    </tr>\n",
       "    <tr>\n",
       "      <th>2015-12-31</th>\n",
       "      <td>90.800003</td>\n",
       "      <td>90.970001</td>\n",
       "      <td>89.250000</td>\n",
       "      <td>90.470001</td>\n",
       "      <td>80898100</td>\n",
       "      <td>84.914216</td>\n",
       "    </tr>\n",
       "    <tr>\n",
       "      <th>2016-12-31</th>\n",
       "      <td>74.500000</td>\n",
       "      <td>75.190002</td>\n",
       "      <td>73.629997</td>\n",
       "      <td>74.300003</td>\n",
       "      <td>35076700</td>\n",
       "      <td>73.233524</td>\n",
       "    </tr>\n",
       "  </tbody>\n",
       "</table>\n",
       "</div>"
      ],
      "text/plain": [
       "                 Open       High        Low      Close    Volume  Adj Close\n",
       "Date                                                                       \n",
       "2012-12-31  77.599998  77.599998  76.690002  77.150002  38007300  68.568371\n",
       "2013-12-31  81.209999  81.370003  80.820000  81.209999  25683700  73.929868\n",
       "2014-12-31  87.080002  88.089996  86.480003  87.540001  22812400  81.707680\n",
       "2015-12-31  90.800003  90.970001  89.250000  90.470001  80898100  84.914216\n",
       "2016-12-31  74.500000  75.190002  73.629997  74.300003  35076700  73.233524"
      ]
     },
     "execution_count": 15,
     "metadata": {},
     "output_type": "execute_result"
    }
   ],
   "source": [
    "df.resample(rule='A').max()"
   ]
  },
  {
   "cell_type": "code",
   "execution_count": 16,
   "metadata": {},
   "outputs": [],
   "source": [
    "def first_day(entry):\n",
    "    return entry[0]"
   ]
  },
  {
   "cell_type": "code",
   "execution_count": 17,
   "metadata": {},
   "outputs": [
    {
     "data": {
      "text/html": [
       "<div>\n",
       "<style scoped>\n",
       "    .dataframe tbody tr th:only-of-type {\n",
       "        vertical-align: middle;\n",
       "    }\n",
       "\n",
       "    .dataframe tbody tr th {\n",
       "        vertical-align: top;\n",
       "    }\n",
       "\n",
       "    .dataframe thead th {\n",
       "        text-align: right;\n",
       "    }\n",
       "</style>\n",
       "<table border=\"1\" class=\"dataframe\">\n",
       "  <thead>\n",
       "    <tr style=\"text-align: right;\">\n",
       "      <th></th>\n",
       "      <th>Open</th>\n",
       "      <th>High</th>\n",
       "      <th>Low</th>\n",
       "      <th>Close</th>\n",
       "      <th>Volume</th>\n",
       "      <th>Adj Close</th>\n",
       "    </tr>\n",
       "    <tr>\n",
       "      <th>Date</th>\n",
       "      <th></th>\n",
       "      <th></th>\n",
       "      <th></th>\n",
       "      <th></th>\n",
       "      <th></th>\n",
       "      <th></th>\n",
       "    </tr>\n",
       "  </thead>\n",
       "  <tbody>\n",
       "    <tr>\n",
       "      <th>2012-12-31</th>\n",
       "      <td>59.970001</td>\n",
       "      <td>61.060001</td>\n",
       "      <td>59.869999</td>\n",
       "      <td>60.330002</td>\n",
       "      <td>12668800</td>\n",
       "      <td>52.619235</td>\n",
       "    </tr>\n",
       "    <tr>\n",
       "      <th>2013-12-31</th>\n",
       "      <td>68.930000</td>\n",
       "      <td>69.239998</td>\n",
       "      <td>68.449997</td>\n",
       "      <td>69.239998</td>\n",
       "      <td>10390800</td>\n",
       "      <td>61.879708</td>\n",
       "    </tr>\n",
       "    <tr>\n",
       "      <th>2014-12-31</th>\n",
       "      <td>78.720001</td>\n",
       "      <td>79.470001</td>\n",
       "      <td>78.500000</td>\n",
       "      <td>78.910004</td>\n",
       "      <td>6878000</td>\n",
       "      <td>72.254228</td>\n",
       "    </tr>\n",
       "    <tr>\n",
       "      <th>2015-12-31</th>\n",
       "      <td>86.269997</td>\n",
       "      <td>86.720001</td>\n",
       "      <td>85.550003</td>\n",
       "      <td>85.900002</td>\n",
       "      <td>4501800</td>\n",
       "      <td>80.624861</td>\n",
       "    </tr>\n",
       "    <tr>\n",
       "      <th>2016-12-31</th>\n",
       "      <td>60.500000</td>\n",
       "      <td>61.490002</td>\n",
       "      <td>60.360001</td>\n",
       "      <td>61.459999</td>\n",
       "      <td>11989200</td>\n",
       "      <td>59.289713</td>\n",
       "    </tr>\n",
       "  </tbody>\n",
       "</table>\n",
       "</div>"
      ],
      "text/plain": [
       "                 Open       High        Low      Close    Volume  Adj Close\n",
       "Date                                                                       \n",
       "2012-12-31  59.970001  61.060001  59.869999  60.330002  12668800  52.619235\n",
       "2013-12-31  68.930000  69.239998  68.449997  69.239998  10390800  61.879708\n",
       "2014-12-31  78.720001  79.470001  78.500000  78.910004   6878000  72.254228\n",
       "2015-12-31  86.269997  86.720001  85.550003  85.900002   4501800  80.624861\n",
       "2016-12-31  60.500000  61.490002  60.360001  61.459999  11989200  59.289713"
      ]
     },
     "execution_count": 17,
     "metadata": {},
     "output_type": "execute_result"
    }
   ],
   "source": [
    "df.resample('A').apply(first_day)"
   ]
  },
  {
   "cell_type": "code",
   "execution_count": 22,
   "metadata": {},
   "outputs": [
    {
     "data": {
      "text/plain": [
       "<matplotlib.axes._subplots.AxesSubplot at 0x244ae114788>"
      ]
     },
     "execution_count": 22,
     "metadata": {},
     "output_type": "execute_result"
    },
    {
     "data": {
      "image/png": "[encoded data removed]",
      "text/plain": [
       "<Figure size 1152x432 with 1 Axes>"
      ]
     },
     "metadata": {
      "needs_background": "light"
     },
     "output_type": "display_data"
    }
   ],
   "source": [
    "df['Close'].resample('A').mean().plot(kind='bar',figsize=(16,6))"
   ]
  },
  {
   "cell_type": "code",
   "execution_count": null,
   "metadata": {},
   "outputs": [],
   "source": []
  },
  {
   "cell_type": "code",
   "execution_count": null,
   "metadata": {},
   "outputs": [],
   "source": []
  },
  {
   "cell_type": "code",
   "execution_count": null,
   "metadata": {},
   "outputs": [],
   "source": []
  }
 ],
 "metadata": {
  "kernelspec": {
   "display_name": "Python 3",
   "language": "python",
   "name": "python3"
  },
  "language_info": {
   "codemirror_mode": {
    "name": "ipython",
    "version": 3
   },
   "file_extension": ".py",
   "mimetype": "text/x-python",
   "name": "python",
   "nbconvert_exporter": "python",
   "pygments_lexer": "ipython3",
   "version": "3.7.6"
  }
 },
 "nbformat": 4,
 "nbformat_minor": 4
}
